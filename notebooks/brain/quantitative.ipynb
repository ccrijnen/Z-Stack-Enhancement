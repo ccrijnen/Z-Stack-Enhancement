{
 "cells": [
  {
   "cell_type": "code",
   "execution_count": 1,
   "outputs": [],
   "source": [
    "%matplotlib inline\n",
    "%load_ext autoreload\n",
    "%autoreload 2"
   ],
   "metadata": {
    "collapsed": false,
    "pycharm": {
     "name": "#%%\n"
    }
   }
  },
  {
   "cell_type": "code",
   "execution_count": 2,
   "outputs": [],
   "source": [
    "import pandas as pd\n",
    "import torch\n",
    "from torchvision import transforms\n",
    "\n",
    "pd.set_option('display.expand_frame_repr', False)"
   ],
   "metadata": {
    "collapsed": false,
    "pycharm": {
     "name": "#%%\n"
    }
   }
  },
  {
   "cell_type": "code",
   "execution_count": 3,
   "outputs": [],
   "source": [
    "from zse.datamodules.components.brain_datasets import ZStackDataset3D\n",
    "from zse.utils.eval import QuantEval"
   ],
   "metadata": {
    "collapsed": false,
    "pycharm": {
     "name": "#%%\n"
    }
   }
  },
  {
   "cell_type": "code",
   "execution_count": 4,
   "outputs": [],
   "source": [
    "home = \"/p/fastdata/bigbrains/personal/crijnen1\"\n",
    "data_root = f\"{home}/data\"\n",
    "zse_path = f\"../..\"\n",
    "model_path = f\"{zse_path}/models\"\n",
    "device = torch.device(\"cuda:0\" if torch.cuda.is_available() else \"cpu\")"
   ],
   "metadata": {
    "collapsed": false,
    "pycharm": {
     "name": "#%%\n"
    }
   }
  },
  {
   "cell_type": "code",
   "execution_count": 5,
   "outputs": [
    {
     "name": "stdout",
     "output_type": "stream",
     "text": [
      "Adding 'Blurry Images': 'data' to results.\n"
     ]
    }
   ],
   "source": [
    "dest = f\"{zse_path}/reports/results/brain/quantitative/quantitative.xlsx\"\n",
    "data_test = ZStackDataset3D(f\"{data_root}/bigbrain_1micron/20/test/blurry/*.hdf5\", transform=transforms.ToTensor())\n",
    "evaluator = QuantEval(dest, data_test, 1, device, 16)"
   ],
   "metadata": {
    "collapsed": false,
    "pycharm": {
     "name": "#%%\n"
    }
   }
  },
  {
   "cell_type": "code",
   "execution_count": 6,
   "outputs": [
    {
     "name": "stdout",
     "output_type": "stream",
     "text": [
      "Adding 'AdaIN U-Net 2D': 'adain_unet' to results.\n",
      "Adding 'AdaIN U-Net 3D': 'adain_unet' to results.\n",
      "Adding 'U17 Baseline 3D small style': 'unet' to results.\n",
      "Adding 'AdaIN U-Net 3D small style': 'adain_unet' to results.\n"
     ]
    },
    {
     "data": {
      "text/plain": "                          name        FID       PSNR      SSIM       PCC       model                                 weights_or_img_dir\n0                Blurry Images  12.959547  21.974757  0.589361  0.894947        data                                      blurry images\n1               AdaIN U-Net 2D   3.844303  21.560060  0.580737  0.888247  adain_unet  /p/fastdata/bigbrains/personal/crijnen1/Z-Stac...\n2               AdaIN U-Net 3D   5.448987  18.370520  0.413479  0.762722  adain_unet  /p/fastdata/bigbrains/personal/crijnen1/Z-Stac...\n3  U17 Baseline 3D small style   5.593143  19.160677  0.472863  0.809912        unet  /p/fastdata/bigbrains/personal/crijnen1/Z-Stac...\n4   AdaIN U-Net 3D small style   5.324672  18.464970  0.423752  0.774676  adain_unet  /p/fastdata/bigbrains/personal/crijnen1/Z-Stac...",
      "text/html": "<div>\n<style scoped>\n    .dataframe tbody tr th:only-of-type {\n        vertical-align: middle;\n    }\n\n    .dataframe tbody tr th {\n        vertical-align: top;\n    }\n\n    .dataframe thead th {\n        text-align: right;\n    }\n</style>\n<table border=\"1\" class=\"dataframe\">\n  <thead>\n    <tr style=\"text-align: right;\">\n      <th></th>\n      <th>name</th>\n      <th>FID</th>\n      <th>PSNR</th>\n      <th>SSIM</th>\n      <th>PCC</th>\n      <th>model</th>\n      <th>weights_or_img_dir</th>\n    </tr>\n  </thead>\n  <tbody>\n    <tr>\n      <th>0</th>\n      <td>Blurry Images</td>\n      <td>12.959547</td>\n      <td>21.974757</td>\n      <td>0.589361</td>\n      <td>0.894947</td>\n      <td>data</td>\n      <td>blurry images</td>\n    </tr>\n    <tr>\n      <th>1</th>\n      <td>AdaIN U-Net 2D</td>\n      <td>3.844303</td>\n      <td>21.560060</td>\n      <td>0.580737</td>\n      <td>0.888247</td>\n      <td>adain_unet</td>\n      <td>/p/fastdata/bigbrains/personal/crijnen1/Z-Stac...</td>\n    </tr>\n    <tr>\n      <th>2</th>\n      <td>AdaIN U-Net 3D</td>\n      <td>5.448987</td>\n      <td>18.370520</td>\n      <td>0.413479</td>\n      <td>0.762722</td>\n      <td>adain_unet</td>\n      <td>/p/fastdata/bigbrains/personal/crijnen1/Z-Stac...</td>\n    </tr>\n    <tr>\n      <th>3</th>\n      <td>U17 Baseline 3D small style</td>\n      <td>5.593143</td>\n      <td>19.160677</td>\n      <td>0.472863</td>\n      <td>0.809912</td>\n      <td>unet</td>\n      <td>/p/fastdata/bigbrains/personal/crijnen1/Z-Stac...</td>\n    </tr>\n    <tr>\n      <th>4</th>\n      <td>AdaIN U-Net 3D small style</td>\n      <td>5.324672</td>\n      <td>18.464970</td>\n      <td>0.423752</td>\n      <td>0.774676</td>\n      <td>adain_unet</td>\n      <td>/p/fastdata/bigbrains/personal/crijnen1/Z-Stac...</td>\n    </tr>\n  </tbody>\n</table>\n</div>"
     },
     "execution_count": 6,
     "metadata": {},
     "output_type": "execute_result"
    }
   ],
   "source": [
    "evaluator.add_model(\"adain_unet\", \"AdaIN U-Net 2D\", f\"{model_path}/adain_unet_2d_best\")\n",
    "evaluator.add_model(\"adain_unet\", \"AdaIN U-Net 3D\", f\"{model_path}/adain_unet_3d_best\")\n",
    "evaluator.add_model(\"unet\", \"U-Net 3DS Baseline\", f\"{model_path}/adain_unet_3ds_best\")\n",
    "evaluator.add_model(\"adain_unet\", \"AdaIN U-Net 3DS\", f\"{model_path}/adain_unet_2ds_best.ckpt\")\n",
    "evaluator.results"
   ],
   "metadata": {
    "collapsed": false,
    "pycharm": {
     "name": "#%%\n"
    }
   }
  },
  {
   "cell_type": "code",
   "execution_count": 6,
   "outputs": [],
   "source": [],
   "metadata": {
    "collapsed": false,
    "pycharm": {
     "name": "#%%\n"
    }
   }
  }
 ],
 "metadata": {
  "kernelspec": {
   "display_name": "Python 3",
   "language": "python",
   "name": "python3"
  },
  "language_info": {
   "codemirror_mode": {
    "name": "ipython",
    "version": 2
   },
   "file_extension": ".py",
   "mimetype": "text/x-python",
   "name": "python",
   "nbconvert_exporter": "python",
   "pygments_lexer": "ipython2",
   "version": "2.7.6"
  }
 },
 "nbformat": 4,
 "nbformat_minor": 0
}