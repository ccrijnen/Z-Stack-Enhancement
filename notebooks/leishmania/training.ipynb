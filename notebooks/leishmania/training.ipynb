{
 "cells": [
  {
   "cell_type": "code",
   "execution_count": 1,
   "outputs": [],
   "source": [
    "%matplotlib inline\n",
    "%load_ext autoreload\n",
    "%autoreload 2"
   ],
   "metadata": {
    "collapsed": false,
    "pycharm": {
     "name": "#%%\n"
    }
   }
  },
  {
   "cell_type": "code",
   "execution_count": 2,
   "outputs": [],
   "source": [
    "import matplotlib.dates as md\n",
    "import matplotlib.pyplot as plt\n",
    "import pandas as pd\n",
    "import torch\n",
    "from torchvision import models, transforms"
   ],
   "metadata": {
    "collapsed": false,
    "pycharm": {
     "name": "#%%\n"
    }
   }
  },
  {
   "cell_type": "code",
   "execution_count": 3,
   "outputs": [],
   "source": [
    "from zse.models.components.adain_unet import AdaINUNet\n",
    "from zse.models.components.adain_net import AdaINNet\n",
    "from zse.models.components.unet import UNet"
   ],
   "metadata": {
    "collapsed": false,
    "pycharm": {
     "name": "#%%\n"
    }
   }
  },
  {
   "cell_type": "code",
   "execution_count": null,
   "outputs": [],
   "source": [
    "plt.style.use('ggplot')\n",
    "dest = \"../../reports/results/leishmania/training\""
   ],
   "metadata": {
    "collapsed": false,
    "pycharm": {
     "name": "#%%\n"
    }
   }
  },
  {
   "cell_type": "code",
   "execution_count": null,
   "outputs": [],
   "source": [
    "def plot_dict(dictionary, csv_path, title, ylabel, log_scale, save_path=None, ylim=None):\n",
    "    fig, ax = plt.subplots()\n",
    "\n",
    "    for k, v in dictionary.items():\n",
    "        data = pd.read_csv(f'{csv_path}/{v}')\n",
    "        rel_time = pd.to_datetime(data.iloc[:,0] - data.iloc[0,0], unit=\"s\")\n",
    "        fids = data.iloc[:,2]\n",
    "        ax.plot(md.date2num(rel_time), fids, label=k)\n",
    "\n",
    "    x_formatter = md.DateFormatter('%H:%M:%S')\n",
    "    ax.xaxis.set_major_formatter(x_formatter)\n",
    "    ax.set_title(title)\n",
    "    if log_scale:\n",
    "        ax.set_yscale(\"log\")\n",
    "        ylabel += \" (log)\"\n",
    "    ax.set_ylabel(ylabel)\n",
    "    if ylim is not None:\n",
    "        ax.set_ylim(top=ylim)\n",
    "    ax.set_xlabel(\"Relative Time (in h:m:s)\")\n",
    "    ax.set_xticks(md.date2num(pd.to_datetime([i * 600 for i in range(7)], unit=\"s\")))\n",
    "    ax.set_xlim(0, md.date2num(pd.to_datetime(3600, unit=\"s\")))\n",
    "    ax.legend(facecolor='white', fancybox=True, shadow=True)\n",
    "    if save_path is not None:\n",
    "        plt.savefig(save_path, bbox_inches=\"tight\")\n",
    "    plt.show()"
   ],
   "metadata": {
    "collapsed": false,
    "pycharm": {
     "name": "#%%\n"
    }
   }
  },
  {
   "cell_type": "markdown",
   "source": [
    "# Number of Parameters"
   ],
   "metadata": {
    "collapsed": false,
    "pycharm": {
     "name": "#%% md\n"
    }
   }
  },
  {
   "cell_type": "code",
   "execution_count": null,
   "outputs": [],
   "source": [
    "vgg19 = models.vgg19(pretrained=True)\n",
    "norm = transforms.Normalize(mean=[0.485, 0.456, 0.406], std=[0.229, 0.224, 0.225])\n",
    "unet = UNet(vgg19, norm)\n",
    "adain = AdaINNet(vgg19, norm)\n",
    "adain_unet = AdaINUNet(vgg19, norm)\n",
    "print(f\"U17: {sum(p.numel() for p in unet.decoder.parameters()):,}\")\n",
    "print(f\"AdaIN Style Transfer: {sum(p.numel() for p in adain.decoder.parameters()):,}\")\n",
    "print(f\"AdaIN U-Net: {sum(p.numel() for p in adain_unet.decoder.parameters()):,}\")\n",
    "print(\"COMI Generator: 2x 2,837,250\")\n",
    "print(\"COMI Discriminator: 2x 11,378,225\")\n",
    "print(\"COMI Total: 28,430,950\")"
   ],
   "metadata": {
    "collapsed": false,
    "pycharm": {
     "name": "#%%\n"
    }
   }
  },
  {
   "cell_type": "markdown",
   "source": [
    "# Best models"
   ],
   "metadata": {
    "collapsed": false,
    "pycharm": {
     "name": "#%% md\n"
    }
   }
  },
  {
   "cell_type": "code",
   "execution_count": null,
   "outputs": [],
   "source": [
    "d = {\n",
    "    \"AdaIN U-Net (Gram)\": \"leishmania/unet/gram_loss/lr:0.001-style_weight:1000000.0-weight_decay:0-lr_decay:1/version_0\".replace(\"/\", \"_\").replace(\":\", \"_\") + \".csv\",\n",
    "    \"AdaIN U-Net (Stats)\": \"leishmania/unet/adain_loss/lr:0.001-style_weight:100.0-weight_decay:0-lr_decay:1/version_0\".replace(\"/\", \"_\").replace(\":\", \"_\") + \".csv\",\n",
    "    \"AdaIN Baseline (Gram)\": \"leishmania/adain/gram_loss/lr:0.0001-style_weight:100.0-weight_decay:0-lr_decay:1/version_0\".replace(\"/\", \"_\").replace(\":\", \"_\") + \".csv\",\n",
    "    \"AdaIN Baseline (Stats)\": \"leishmania/adain/adain_loss/lr:0.0005-style_weight:1.0-weight_decay:0-lr_decay:1/version_0\".replace(\"/\", \"_\").replace(\":\", \"_\") + \".csv\",\n",
    "    \"U17 Baseline (Gram)\": \"leishmania/u17/gram_loss/lr:0.001-style_weight:10000.0-weight_decay:0-lr_decay:1/version_0\".replace(\"/\", \"_\").replace(\":\", \"_\") + \".csv\",\n",
    "    \"U17 Baseline (Stats)\": \"leishmania/u17/adain_loss/lr:0.0001-style_weight:100.0-weight_decay:0-lr_decay:1/version_0\".replace(\"/\", \"_\").replace(\":\", \"_\") + \".csv\",\n",
    "}\n",
    "save_prefix = f\"{dest}/best\"\n",
    "plot_dict(d, \"./training/val-fid\", \"Validation FID\", \"FID\", False, f\"{save_prefix}_fid.png\", ylim=200)\n",
    "plot_dict(d, \"./training/loss-total\", \"Training Loss\", \"Loss\", True, f\"{save_prefix}_loss.png\", ylim=4e4)\n",
    "plot_dict(d, \"./training/loss-content\", \"Training Content Loss\", \"Loss\", True, f\"{save_prefix}_content.png\")\n",
    "plot_dict(d, \"./training/loss-style\", \"Training Style Loss\", \"Loss\", True, f\"{save_prefix}_style.png\", ylim=1e5)"
   ],
   "metadata": {
    "collapsed": false,
    "pycharm": {
     "name": "#%%\n"
    }
   }
  },
  {
   "cell_type": "markdown",
   "source": [
    "# AdaIN U-Net"
   ],
   "metadata": {
    "collapsed": false,
    "pycharm": {
     "name": "#%% md\n"
    }
   }
  },
  {
   "cell_type": "markdown",
   "source": [
    "## Gram Loss"
   ],
   "metadata": {
    "collapsed": false,
    "pycharm": {
     "name": "#%% md\n"
    }
   }
  },
  {
   "cell_type": "code",
   "execution_count": null,
   "outputs": [],
   "source": [
    "d = {\n",
    "    r\"lr:1e-3 $\\beta$:1e0\": \"leishmania/unet/gram_loss/lr:0.001-style_weight:1.0-weight_decay:0-lr_decay:1/version_0\".replace(\"/\", \"_\").replace(\":\", \"_\") + \".csv\",\n",
    "    r\"lr:1e-3 $\\beta$:1e2\": \"leishmania/unet/gram_loss/lr:0.001-style_weight:100.0-weight_decay:0-lr_decay:1/version_0\".replace(\"/\", \"_\").replace(\":\", \"_\") + \".csv\",\n",
    "    r\"lr:1e-3 $\\beta$:1e4\": \"leishmania/unet/gram_loss/lr:0.001-style_weight:10000.0-weight_decay:0-lr_decay:1/version_0\".replace(\"/\", \"_\").replace(\":\", \"_\") + \".csv\",\n",
    "    r\"lr:1e-3 $\\beta$:1e6\": \"leishmania/unet/gram_loss/lr:0.001-style_weight:1000000.0-weight_decay:0-lr_decay:1/version_0\".replace(\"/\", \"_\").replace(\":\", \"_\") + \".csv\",\n",
    "    r\"lr:1e-4 $\\beta$:1e6\": \"leishmania/unet/gram_loss/lr:0.0001-style_weight:1000000.0-weight_decay:0-lr_decay:1/version_0\".replace(\"/\", \"_\").replace(\":\", \"_\") + \".csv\",\n",
    "    r\"lr:1e-3 $\\beta$:1e8\": \"leishmania/unet/gram_loss/lr:0.001-style_weight:100000000.0-weight_decay:0-lr_decay:1/version_0\".replace(\"/\", \"_\").replace(\":\", \"_\") + \".csv\",\n",
    "}\n",
    "save_prefix = f\"{dest}/adain_unet_gram\"\n",
    "plot_dict(d, \"./training/val-fid\", \"Validation FID\", \"FID\", False, f\"{save_prefix}_fid.png\", ylim=150)\n",
    "plot_dict(d, \"./training/loss-total\", \"Training Loss\", \"Loss\", True, f\"{save_prefix}_loss.png\", ylim=1e10)\n",
    "plot_dict(d, \"./training/loss-content\", \"Training Content Loss\", \"Loss\", True, f\"{save_prefix}_content.png\", ylim=0.9)\n",
    "plot_dict(d, \"./training/loss-style\", \"Training Style Loss\", \"Loss\", True, f\"{save_prefix}_style.png\", ylim=8e10)"
   ],
   "metadata": {
    "collapsed": false,
    "pycharm": {
     "name": "#%%\n"
    }
   }
  },
  {
   "cell_type": "markdown",
   "source": [
    "## AdaIN Loss"
   ],
   "metadata": {
    "collapsed": false,
    "pycharm": {
     "name": "#%% md\n"
    }
   }
  },
  {
   "cell_type": "code",
   "execution_count": null,
   "outputs": [],
   "source": [
    "d = {\n",
    "    r\"lr:1e-3 $\\beta$:1e0\": \"leishmania/unet/adain_loss/lr:0.001-style_weight:1.0-weight_decay:0-lr_decay:1/version_0\".replace(\"/\", \"_\").replace(\":\", \"_\") + \".csv\",\n",
    "    r\"lr:1e-3 $\\beta$:1e1\": \"leishmania/unet/adain_loss/lr:0.001-style_weight:10.0-weight_decay:0-lr_decay:1/version_0\".replace(\"/\", \"_\").replace(\":\", \"_\") + \".csv\",\n",
    "    r\"lr:1e-3 $\\beta$:1e2\": \"leishmania/unet/adain_loss/lr:0.001-style_weight:100.0-weight_decay:0-lr_decay:1/version_0\".replace(\"/\", \"_\").replace(\":\", \"_\") + \".csv\",\n",
    "    r\"lr:1e-4 $\\beta$:1e2\": \"leishmania/unet/adain_loss/lr:0.0001-style_weight:100.0-weight_decay:0-lr_decay:1/version_0\".replace(\"/\", \"_\").replace(\":\", \"_\") + \".csv\",\n",
    "    r\"lr:1e-3 $\\beta$:1e3\": \"leishmania/unet/adain_loss/lr:0.001-style_weight:1000.0-weight_decay:0-lr_decay:1/version_0\".replace(\"/\", \"_\").replace(\":\", \"_\") + \".csv\",\n",
    "}\n",
    "save_prefix = f\"{dest}/adain_unet_adain\"\n",
    "plot_dict(d, \"./training/val-fid\", \"Validation FID\", \"FID\", False, f\"{save_prefix}_fid.png\", ylim=80)\n",
    "plot_dict(d, \"./training/loss-total\", \"Training Loss\", \"Loss\", True, f\"{save_prefix}_loss.png\", ylim=1e4)\n",
    "plot_dict(d, \"./training/loss-content\", \"Training Content Loss\", \"Loss\", True, f\"{save_prefix}_content.png\", ylim=0.55)\n",
    "plot_dict(d, \"./training/loss-style\", \"Training Style Loss\", \"Loss\", True, f\"{save_prefix}_style.png\", ylim=3e4)"
   ],
   "metadata": {
    "collapsed": false,
    "pycharm": {
     "name": "#%%\n"
    }
   }
  },
  {
   "cell_type": "markdown",
   "source": [
    "# AdaIN Baseline"
   ],
   "metadata": {
    "collapsed": false,
    "pycharm": {
     "name": "#%% md\n"
    }
   }
  },
  {
   "cell_type": "markdown",
   "source": [
    "## Gram Loss"
   ],
   "metadata": {
    "collapsed": false,
    "pycharm": {
     "name": "#%% md\n"
    }
   }
  },
  {
   "cell_type": "code",
   "execution_count": null,
   "outputs": [],
   "source": [
    "d = {\n",
    "    r\"lr:1e-3 $\\beta$:1e2\": \"leishmania/adain/gram_loss/lr:0.001-style_weight:100.0-weight_decay:0-lr_decay:1/version_0\".replace(\"/\", \"_\").replace(\":\", \"_\") + \".csv\",\n",
    "    r\"lr:1e-4 $\\beta$:1e2\": \"leishmania/adain/gram_loss/lr:0.0001-style_weight:100.0-weight_decay:0-lr_decay:1/version_0\".replace(\"/\", \"_\").replace(\":\", \"_\") + \".csv\",\n",
    "    r\"lr:1e-3 $\\beta$:1e6\": \"leishmania/adain/gram_loss/lr:0.001-style_weight:1000000.0-weight_decay:0-lr_decay:1/version_0\".replace(\"/\", \"_\").replace(\":\", \"_\") + \".csv\",\n",
    "}\n",
    "save_prefix = f\"{dest}/adain_base_gram\"\n",
    "plot_dict(d, \"./training/val-fid\", \"Validation FID\", \"FID\", False, f\"{save_prefix}_fid.png\")\n",
    "plot_dict(d, \"./training/loss-total\", \"Training Loss\", \"Loss\", True, f\"{save_prefix}_loss.png\", ylim=3e4)\n",
    "plot_dict(d, \"./training/loss-content\", \"Training Content Loss\", \"Loss\", True, f\"{save_prefix}_content.png\", ylim=0.7)\n",
    "plot_dict(d, \"./training/loss-style\", \"Training Style Loss\", \"Loss\", True, f\"{save_prefix}_style.png\", ylim=3e4)"
   ],
   "metadata": {
    "collapsed": false,
    "pycharm": {
     "name": "#%%\n"
    }
   }
  },
  {
   "cell_type": "markdown",
   "source": [
    "## Adain Loss"
   ],
   "metadata": {
    "collapsed": false,
    "pycharm": {
     "name": "#%% md\n"
    }
   }
  },
  {
   "cell_type": "code",
   "execution_count": null,
   "outputs": [],
   "source": [
    "d = {\n",
    "    r\"lr:1e-3 $\\beta$:1e0\": \"leishmania/adain/adain_loss/lr:0.001-style_weight:1.0-weight_decay:0-lr_decay:1/version_0\".replace(\"/\", \"_\").replace(\":\", \"_\") + \".csv\",\n",
    "    r\"lr:5e-4 $\\beta$:1e0\": \"leishmania/adain/adain_loss/lr:0.0005-style_weight:1.0-weight_decay:0-lr_decay:1/version_0\".replace(\"/\", \"_\").replace(\":\", \"_\") + \".csv\",\n",
    "    r\"lr:1e-4 $\\beta$:1e0\": \"leishmania/adain/adain_loss/lr:0.0001-style_weight:1.0-weight_decay:0-lr_decay:1/version_0\".replace(\"/\", \"_\").replace(\":\", \"_\") + \".csv\",\n",
    "    r\"lr:1e-3 $\\beta$:1e1\": \"leishmania/adain/adain_loss/lr:0.001-style_weight:10.0-weight_decay:0-lr_decay:1/version_0\".replace(\"/\", \"_\").replace(\":\", \"_\") + \".csv\",\n",
    "    r\"lr:1e-3 $\\beta$:1e2\": \"leishmania/adain/adain_loss/lr:0.001-style_weight:100.0-weight_decay:0-lr_decay:1/version_0\".replace(\"/\", \"_\").replace(\":\", \"_\") + \".csv\",\n",
    "    r\"lr:1e-4 $\\beta$:1e2\": \"leishmania/adain/adain_loss/lr:0.0001-style_weight:100.0-weight_decay:0-lr_decay:1/version_0\".replace(\"/\", \"_\").replace(\":\", \"_\") + \".csv\",\n",
    "}\n",
    "save_prefix = f\"{dest}/adain_base_adain\"\n",
    "plot_dict(d, \"./training/val-fid\", \"Validation FID\", \"FID\", False, f\"{save_prefix}_fid.png\", ylim=200)\n",
    "plot_dict(d, \"./training/loss-total\", \"Training Loss\", \"Loss\", True, f\"{save_prefix}_loss.png\", ylim=3e3)\n",
    "plot_dict(d, \"./training/loss-content\", \"Training Content Loss\", \"Loss\", True, f\"{save_prefix}_content.png\", ylim=0.7)\n",
    "plot_dict(d, \"./training/loss-style\", \"Training Style Loss\", \"Loss\", True, f\"{save_prefix}_style.png\", ylim=6e3)"
   ],
   "metadata": {
    "collapsed": false,
    "pycharm": {
     "name": "#%%\n"
    }
   }
  },
  {
   "cell_type": "markdown",
   "source": [
    "# U22 Baseline"
   ],
   "metadata": {
    "collapsed": false,
    "pycharm": {
     "name": "#%% md\n"
    }
   }
  },
  {
   "cell_type": "markdown",
   "source": [
    "## Gram Loss"
   ],
   "metadata": {
    "collapsed": false,
    "pycharm": {
     "name": "#%% md\n"
    }
   }
  },
  {
   "cell_type": "code",
   "execution_count": null,
   "outputs": [],
   "source": [
    "d = {\n",
    "    r\"lr:1e-3 $\\beta$:1e3\": \"leishmania/u17/gram_loss/lr:0.001-style_weight:1000.0-weight_decay:0-lr_decay:1/version_0\".replace(\"/\", \"_\").replace(\":\", \"_\") + \".csv\",\n",
    "    r\"lr:1e-3 $\\beta$:1e4\": \"leishmania/u17/gram_loss/lr:0.001-style_weight:10000.0-weight_decay:0-lr_decay:1/version_0\".replace(\"/\", \"_\").replace(\":\", \"_\") + \".csv\",\n",
    "    r\"lr:1e-4 $\\beta$:1e4\": \"leishmania/u17/gram_loss/lr:0.0001-style_weight:10000.0-weight_decay:0-lr_decay:1/version_0\".replace(\"/\", \"_\").replace(\":\", \"_\") + \".csv\",\n",
    "    r\"lr:1e-3 $\\beta$:1e5\": \"leishmania/u17/gram_loss/lr:0.001-style_weight:100000.0-weight_decay:0-lr_decay:1/version_0\".replace(\"/\", \"_\").replace(\":\", \"_\") + \".csv\",\n",
    "    r\"lr:1e-3 $\\beta$:1e6\": \"leishmania/u17/gram_loss/lr:0.001-style_weight:1000000.0-weight_decay:0-lr_decay:1/version_0\".replace(\"/\", \"_\").replace(\":\", \"_\") + \".csv\",\n",
    "    r\"lr:1e-3 $\\beta$:1e7\": \"leishmania/u17/gram_loss/lr:0.001-style_weight:10000000.0-weight_decay:0-lr_decay:1/version_0\".replace(\"/\", \"_\").replace(\":\", \"_\") + \".csv\",\n",
    "}\n",
    "save_prefix = f\"{dest}/u17_gram\"\n",
    "plot_dict(d, \"./training/val-fid\", \"Validation FID\", \"FID\", False, f\"{save_prefix}_fid.png\", ylim=225)\n",
    "plot_dict(d, \"./training/loss-total\", \"Training Loss\", \"Loss\", True, f\"{save_prefix}_loss.png\", ylim=1e7)\n",
    "plot_dict(d, \"./training/loss-content\", \"Training Content Loss\", \"Loss\", True, f\"{save_prefix}_content.png\", ylim=8e-1)\n",
    "plot_dict(d, \"./training/loss-style\", \"Training Style Loss\", \"Loss\", True, f\"{save_prefix}_style.png\", ylim=3e7)"
   ],
   "metadata": {
    "collapsed": false,
    "pycharm": {
     "name": "#%%\n"
    }
   }
  },
  {
   "cell_type": "markdown",
   "source": [
    "## AdaIN Loss"
   ],
   "metadata": {
    "collapsed": false,
    "pycharm": {
     "name": "#%% md\n"
    }
   }
  },
  {
   "cell_type": "code",
   "execution_count": null,
   "outputs": [],
   "source": [
    "d = {\n",
    "    r\"lr:1e-3 $\\beta$:1e0\": \"leishmania/u17/adain_loss/lr:0.001-style_weight:1.0-weight_decay:0-lr_decay:1/version_0\".replace(\"/\", \"_\").replace(\":\", \"_\") + \".csv\",\n",
    "    r\"lr:1e-3 $\\beta$:1e1\": \"leishmania/u17/adain_loss/lr:0.001-style_weight:10.0-weight_decay:0-lr_decay:1/version_0\".replace(\"/\", \"_\").replace(\":\", \"_\") + \".csv\",\n",
    "    r\"lr:1e-3 $\\beta$:1e2\": \"leishmania/u17/adain_loss/lr:0.001-style_weight:100.0-weight_decay:0-lr_decay:1/version_0\".replace(\"/\", \"_\").replace(\":\", \"_\") + \".csv\",\n",
    "    r\"lr:1e-4 $\\beta$:1e2\": \"leishmania/u17/adain_loss/lr:0.0001-style_weight:100.0-weight_decay:0-lr_decay:1/version_0\".replace(\"/\", \"_\").replace(\":\", \"_\") + \".csv\",\n",
    "    r\"lr:1e-3 $\\beta$:1e3\": \"leishmania/u17/adain_loss/lr:0.001-style_weight:1000.0-weight_decay:0-lr_decay:1/version_0\".replace(\"/\", \"_\").replace(\":\", \"_\") + \".csv\",\n",
    "}\n",
    "save_prefix = f\"{dest}/u17_adain\"\n",
    "plot_dict(d, \"./training/val-fid\", \"Validation FID\", \"FID\", False, f\"{save_prefix}_fid.png\", ylim=175)\n",
    "plot_dict(d, \"./training/loss-total\", \"Training Loss\", \"Loss\", True, f\"{save_prefix}_loss.png\", ylim=3e4)\n",
    "plot_dict(d, \"./training/loss-content\", \"Training Content Loss\", \"Loss\", True, f\"{save_prefix}_content.png\", ylim=7e-1)\n",
    "plot_dict(d, \"./training/loss-style\", \"Training Style Loss\", \"Loss\", True, f\"{save_prefix}_style.png\", ylim=5e4)"
   ],
   "metadata": {
    "collapsed": false,
    "pycharm": {
     "name": "#%%\n"
    }
   }
  },
  {
   "cell_type": "code",
   "execution_count": 13,
   "outputs": [],
   "source": [],
   "metadata": {
    "collapsed": false,
    "pycharm": {
     "name": "#%%\n"
    }
   }
  }
 ],
 "metadata": {
  "kernelspec": {
   "display_name": "Python 3",
   "language": "python",
   "name": "python3"
  },
  "language_info": {
   "codemirror_mode": {
    "name": "ipython",
    "version": 2
   },
   "file_extension": ".py",
   "mimetype": "text/x-python",
   "name": "python",
   "nbconvert_exporter": "python",
   "pygments_lexer": "ipython2",
   "version": "2.7.6"
  }
 },
 "nbformat": 4,
 "nbformat_minor": 0
}