{
 "cells": [
  {
   "cell_type": "code",
   "execution_count": 1,
   "metadata": {
    "collapsed": true,
    "pycharm": {
     "name": "#%%\n"
    }
   },
   "outputs": [],
   "source": [
    "%matplotlib inline\n",
    "%load_ext autoreload\n",
    "%autoreload 2"
   ]
  },
  {
   "cell_type": "code",
   "execution_count": 2,
   "outputs": [],
   "source": [
    "import pandas as pd\n",
    "import torch\n",
    "from torchvision import transforms\n",
    "\n",
    "pd.set_option('display.expand_frame_repr', False)"
   ],
   "metadata": {
    "collapsed": false,
    "pycharm": {
     "name": "#%%\n"
    }
   }
  },
  {
   "cell_type": "code",
   "execution_count": 3,
   "outputs": [],
   "source": [
    "from zse.datamodules.components.leishmania_dataset import LeishmaniaDataset\n",
    "from zse.utils.eval import QuantEval"
   ],
   "metadata": {
    "collapsed": false,
    "pycharm": {
     "name": "#%%\n"
    }
   }
  },
  {
   "cell_type": "code",
   "execution_count": 4,
   "outputs": [],
   "source": [
    "home = \"/p/fastdata/bigbrains/personal/crijnen1\"\n",
    "data_root = f\"{home}/data\"\n",
    "zse_path = f\"{home}/Z-Stack-Enhancement\"\n",
    "exp_path = f\"{zse_path}/logs/experiments/runs/leishmania\"\n",
    "device = torch.device(\"cuda:0\" if torch.cuda.is_available() else \"cpu\")"
   ],
   "metadata": {
    "collapsed": false,
    "pycharm": {
     "name": "#%%\n"
    }
   }
  },
  {
   "cell_type": "code",
   "execution_count": 5,
   "outputs": [],
   "source": [
    "dest = f\"{zse_path}/notebooks/leishmania/quantitative.xlsx\"\n",
    "data_test = LeishmaniaDataset(f\"{data_root}/COMI/Leishmania/Leishmania_blurred_test/*.jpg\", imsize=512, transform=transforms.ToTensor())\n",
    "evaluator = QuantEval(dest, data_test, device)"
   ],
   "metadata": {
    "collapsed": false,
    "pycharm": {
     "name": "#%%\n"
    }
   }
  },
  {
   "cell_type": "code",
   "execution_count": 6,
   "outputs": [
    {
     "name": "stdout",
     "output_type": "stream",
     "text": [
      "Already calculated 'Gatys Style Transfer': 'gatys'!\n",
      "Already calculated 'COMI': 'comi'!\n",
      "Already calculated 'AdaIN Baseline with Gram Loss': 'adain'!\n",
      "Already calculated 'AdaIN Baseline with AdaIN Loss': 'adain'!\n",
      "Already calculated 'U17 Baseline with Gram Loss': 'unet'!\n",
      "Already calculated 'U17 Baseline with AdaIN Loss': 'unet'!\n",
      "Already calculated 'AdaIN U-Net with Random Encoder': 'adain_unet'!\n",
      "Already calculated 'AdaIN U-Net with Gram Loss': 'adain_unet'!\n",
      "Already calculated 'AdaIN U-Net with AdaIN Loss': 'adain_unet'!\n"
     ]
    },
    {
     "data": {
      "text/plain": "                              name         FID       PSNR      SSIM       PCC       model                                 weights_or_img_dir\n0                    Blurry Images   74.133896  38.188180  0.875525  0.966560        data                                      blurry images\n1             Gatys Style Transfer   69.283295  32.414966  0.837289  0.865103       gatys  /p/fastdata/bigbrains/personal/crijnen1/data/C...\n2                             COMI   26.185059  37.035156  0.900295  0.961164        comi  /p/fastdata/bigbrains/personal/crijnen1/data/C...\n3    AdaIN Baseline with Gram Loss   77.261612  28.271096  0.828363  0.907487       adain  /p/fastdata/bigbrains/personal/crijnen1/Z-Stac...\n4   AdaIN Baseline with AdaIN Loss   59.543831  29.633601  0.834490  0.904107       adain  /p/fastdata/bigbrains/personal/crijnen1/Z-Stac...\n5      U17 Baseline with Gram Loss   46.549759  32.949343  0.847394  0.952911        unet  /p/fastdata/bigbrains/personal/crijnen1/Z-Stac...\n6     U17 Baseline with AdaIN Loss   33.830303  36.473830  0.850429  0.956296        unet  /p/fastdata/bigbrains/personal/crijnen1/Z-Stac...\n7  AdaIN U-Net with Random Encoder  103.601448  39.016945  0.902879  0.972609  adain_unet  /p/fastdata/bigbrains/personal/crijnen1/Z-Stac...\n8       AdaIN U-Net with Gram Loss   43.850433  34.545209  0.848320  0.940406  adain_unet  /p/fastdata/bigbrains/personal/crijnen1/Z-Stac...\n9      AdaIN U-Net with AdaIN Loss   45.326260  34.715142  0.855723  0.939906  adain_unet  /p/fastdata/bigbrains/personal/crijnen1/Z-Stac...",
      "text/html": "<div>\n<style scoped>\n    .dataframe tbody tr th:only-of-type {\n        vertical-align: middle;\n    }\n\n    .dataframe tbody tr th {\n        vertical-align: top;\n    }\n\n    .dataframe thead th {\n        text-align: right;\n    }\n</style>\n<table border=\"1\" class=\"dataframe\">\n  <thead>\n    <tr style=\"text-align: right;\">\n      <th></th>\n      <th>name</th>\n      <th>FID</th>\n      <th>PSNR</th>\n      <th>SSIM</th>\n      <th>PCC</th>\n      <th>model</th>\n      <th>weights_or_img_dir</th>\n    </tr>\n  </thead>\n  <tbody>\n    <tr>\n      <th>0</th>\n      <td>Blurry Images</td>\n      <td>74.133896</td>\n      <td>38.188180</td>\n      <td>0.875525</td>\n      <td>0.966560</td>\n      <td>data</td>\n      <td>blurry images</td>\n    </tr>\n    <tr>\n      <th>1</th>\n      <td>Gatys Style Transfer</td>\n      <td>69.283295</td>\n      <td>32.414966</td>\n      <td>0.837289</td>\n      <td>0.865103</td>\n      <td>gatys</td>\n      <td>/p/fastdata/bigbrains/personal/crijnen1/data/C...</td>\n    </tr>\n    <tr>\n      <th>2</th>\n      <td>COMI</td>\n      <td>26.185059</td>\n      <td>37.035156</td>\n      <td>0.900295</td>\n      <td>0.961164</td>\n      <td>comi</td>\n      <td>/p/fastdata/bigbrains/personal/crijnen1/data/C...</td>\n    </tr>\n    <tr>\n      <th>3</th>\n      <td>AdaIN Baseline with Gram Loss</td>\n      <td>77.261612</td>\n      <td>28.271096</td>\n      <td>0.828363</td>\n      <td>0.907487</td>\n      <td>adain</td>\n      <td>/p/fastdata/bigbrains/personal/crijnen1/Z-Stac...</td>\n    </tr>\n    <tr>\n      <th>4</th>\n      <td>AdaIN Baseline with AdaIN Loss</td>\n      <td>59.543831</td>\n      <td>29.633601</td>\n      <td>0.834490</td>\n      <td>0.904107</td>\n      <td>adain</td>\n      <td>/p/fastdata/bigbrains/personal/crijnen1/Z-Stac...</td>\n    </tr>\n    <tr>\n      <th>5</th>\n      <td>U17 Baseline with Gram Loss</td>\n      <td>46.549759</td>\n      <td>32.949343</td>\n      <td>0.847394</td>\n      <td>0.952911</td>\n      <td>unet</td>\n      <td>/p/fastdata/bigbrains/personal/crijnen1/Z-Stac...</td>\n    </tr>\n    <tr>\n      <th>6</th>\n      <td>U17 Baseline with AdaIN Loss</td>\n      <td>33.830303</td>\n      <td>36.473830</td>\n      <td>0.850429</td>\n      <td>0.956296</td>\n      <td>unet</td>\n      <td>/p/fastdata/bigbrains/personal/crijnen1/Z-Stac...</td>\n    </tr>\n    <tr>\n      <th>7</th>\n      <td>AdaIN U-Net with Random Encoder</td>\n      <td>103.601448</td>\n      <td>39.016945</td>\n      <td>0.902879</td>\n      <td>0.972609</td>\n      <td>adain_unet</td>\n      <td>/p/fastdata/bigbrains/personal/crijnen1/Z-Stac...</td>\n    </tr>\n    <tr>\n      <th>8</th>\n      <td>AdaIN U-Net with Gram Loss</td>\n      <td>43.850433</td>\n      <td>34.545209</td>\n      <td>0.848320</td>\n      <td>0.940406</td>\n      <td>adain_unet</td>\n      <td>/p/fastdata/bigbrains/personal/crijnen1/Z-Stac...</td>\n    </tr>\n    <tr>\n      <th>9</th>\n      <td>AdaIN U-Net with AdaIN Loss</td>\n      <td>45.326260</td>\n      <td>34.715142</td>\n      <td>0.855723</td>\n      <td>0.939906</td>\n      <td>adain_unet</td>\n      <td>/p/fastdata/bigbrains/personal/crijnen1/Z-Stac...</td>\n    </tr>\n  </tbody>\n</table>\n</div>"
     },
     "execution_count": 6,
     "metadata": {},
     "output_type": "execute_result"
    }
   ],
   "source": [
    "evaluator.add_model(\"gatys\", \"Gatys Style Transfer\", f\"{data_root}/COMI/Leishmania/predictions/gatys_style/*.jpg\")\n",
    "evaluator.add_model(\"comi\", \"COMI\", f\"{data_root}/COMI/Leishmania/predictions/comi_gan/*.jpg\")\n",
    "evaluator.add_model(\"adain\", \"AdaIN Baseline with Gram Loss\", f\"{exp_path}/adain/gram_loss/lr:0.0001-style_weight:100.0-weight_decay:0-lr_decay:1/2022-11-26_02-29-24/checkpoints/epoch_088.ckpt\")\n",
    "evaluator.add_model(\"adain\", \"AdaIN Baseline with AdaIN Loss\", f\"{exp_path}/adain/adain_loss/lr:0.0005-style_weight:1.0-weight_decay:0-lr_decay:1/2022-11-26_01-28-34/checkpoints/epoch_079.ckpt\")\n",
    "evaluator.add_model(\"unet\", \"U17 Baseline with Gram Loss\", f\"{exp_path}/u17/gram_loss/lr:0.001-style_weight:10000.0-weight_decay:0-lr_decay:1/2022-11-27_16-35-35/checkpoints/epoch_036.ckpt\")\n",
    "evaluator.add_model(\"unet\", \"U17 Baseline with AdaIN Loss\", f\"{exp_path}/u17/adain_loss/lr:0.0001-style_weight:100.0-weight_decay:0-lr_decay:1/2022-11-27_15-42-58/checkpoints/epoch_092.ckpt\")\n",
    "evaluator.add_model(\"adain_unet\", \"AdaIN U-Net with Random Encoder\", f\"{zse_path}/models/leishmania_best.ckpt\")\n",
    "evaluator.add_model(\"adain_unet\", \"AdaIN U-Net with Gram Loss\", f\"{exp_path}/unet/gram_loss/lr:0.001-style_weight:1000000.0-weight_decay:0-lr_decay:1/2022-11-25_13-11-21/checkpoints/epoch_082.ckpt\")\n",
    "evaluator.add_model(\"adain_unet\", \"AdaIN U-Net with AdaIN Loss\", f\"{exp_path}/unet/adain_loss/lr:0.001-style_weight:100.0-weight_decay:0-lr_decay:1/2022-11-25_16-43-30/checkpoints/epoch_098.ckpt\")\n",
    "evaluator.results"
   ],
   "metadata": {
    "collapsed": false,
    "pycharm": {
     "name": "#%%\n"
    }
   }
  },
  {
   "cell_type": "code",
   "execution_count": null,
   "outputs": [],
   "source": [],
   "metadata": {
    "collapsed": false,
    "pycharm": {
     "name": "#%%\n"
    }
   }
  }
 ],
 "metadata": {
  "kernelspec": {
   "display_name": "Python 3",
   "language": "python",
   "name": "python3"
  },
  "language_info": {
   "codemirror_mode": {
    "name": "ipython",
    "version": 2
   },
   "file_extension": ".py",
   "mimetype": "text/x-python",
   "name": "python",
   "nbconvert_exporter": "python",
   "pygments_lexer": "ipython2",
   "version": "2.7.6"
  }
 },
 "nbformat": 4,
 "nbformat_minor": 0
}