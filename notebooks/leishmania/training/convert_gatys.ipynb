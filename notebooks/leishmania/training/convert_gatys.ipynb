{
 "cells": [
  {
   "cell_type": "code",
   "execution_count": 1,
   "metadata": {
    "collapsed": true,
    "pycharm": {
     "name": "#%%\n"
    }
   },
   "outputs": [],
   "source": [
    "%matplotlib inline\n",
    "%load_ext autoreload\n",
    "%autoreload 2"
   ]
  },
  {
   "cell_type": "code",
   "execution_count": 2,
   "outputs": [],
   "source": [
    "import os\n",
    "\n",
    "import torch\n",
    "from matplotlib import pyplot as plt\n",
    "from torchvision import models, transforms"
   ],
   "metadata": {
    "collapsed": false,
    "pycharm": {
     "name": "#%%\n"
    }
   }
  },
  {
   "cell_type": "code",
   "execution_count": 3,
   "outputs": [],
   "source": [
    "from zse.datamodules.leishmania import LeishmaniaDataModule\n",
    "from zse.style_transfer.style_transfer import style_transfer"
   ],
   "metadata": {
    "collapsed": false,
    "pycharm": {
     "name": "#%%\n"
    }
   }
  },
  {
   "cell_type": "code",
   "execution_count": 9,
   "outputs": [],
   "source": [
    "home = \"/p/fastdata/bigbrains/personal/crijnen1\"\n",
    "data_root = f\"{home}/data\"\n",
    "zse_path = f\"{home}/Z-Stack-Enhancement\"\n",
    "fig_path = f\"{zse_path}/reports/figures/paper\"\n",
    "exp_path = f\"{zse_path}/logs/experiments/runs\"\n",
    "dest = f\"{data_root}/COMI/Leishmania/predictions/gatys_style\"\n",
    "torch.hub.set_dir(f\"{home}/models\")\n",
    "device = torch.device(\"cuda:0\" if torch.cuda.is_available() else \"cpu\")"
   ],
   "metadata": {
    "collapsed": false,
    "pycharm": {
     "name": "#%%\n"
    }
   }
  },
  {
   "cell_type": "code",
   "execution_count": 5,
   "outputs": [],
   "source": [
    "def dict_to(d: dict, device):\n",
    "    for k in d.keys():\n",
    "        if isinstance(d[k], dict):\n",
    "            d[k] = dict_to(d[k], device)\n",
    "        elif isinstance(d[k], torch.Tensor):\n",
    "            d[k] = d[k].to(device=device)\n",
    "    return d"
   ],
   "metadata": {
    "collapsed": false,
    "pycharm": {
     "name": "#%%\n"
    }
   }
  },
  {
   "cell_type": "code",
   "execution_count": 6,
   "outputs": [],
   "source": [
    "vgg19 = models.vgg19(pretrained=True).features\n",
    "norm = transforms.Normalize(mean=[0.485, 0.456, 0.406], std=[0.229, 0.224, 0.225])"
   ],
   "metadata": {
    "collapsed": false,
    "pycharm": {
     "name": "#%%\n"
    }
   }
  },
  {
   "cell_type": "code",
   "execution_count": 7,
   "outputs": [],
   "source": [
    "path = f\"{data_root}/COMI/Leishmania/Leishmania_blurred_train/*.jpg\"\n",
    "data_module = LeishmaniaDataModule(path, imsize=512, batch_size=1)\n",
    "data_module.setup()\n",
    "loader = data_module.test_dataloader()"
   ],
   "metadata": {
    "collapsed": false,
    "pycharm": {
     "name": "#%%\n"
    }
   }
  },
  {
   "cell_type": "code",
   "execution_count": 10,
   "outputs": [],
   "source": [
    "for batch in loader:\n",
    "    content: torch.Tensor = batch[\"content\"]\n",
    "    style: torch.Tensor = batch[\"style\"]\n",
    "    fname: str = batch['path'][0].split('/')[-1]\n",
    "\n",
    "    out = style_transfer(vgg19, content, style, style_weights=1e4, normalization=norm, optimizer=torch.optim.LBFGS, num_iter=200, device=device)\n",
    "    out = out.squeeze().permute(1, 2, 0).detach().cpu().numpy()\n",
    "    if not os.path.exists(f\"{dest}/{fname}\"):\n",
    "        plt.imsave(f\"{dest}/{fname}\", out, vmin=0, vmax=1)"
   ],
   "metadata": {
    "collapsed": false,
    "pycharm": {
     "name": "#%%\n"
    }
   }
  },
  {
   "cell_type": "code",
   "execution_count": null,
   "outputs": [],
   "source": [],
   "metadata": {
    "collapsed": false,
    "pycharm": {
     "name": "#%%\n"
    }
   }
  }
 ],
 "metadata": {
  "kernelspec": {
   "display_name": "Python 3",
   "language": "python",
   "name": "python3"
  },
  "language_info": {
   "codemirror_mode": {
    "name": "ipython",
    "version": 2
   },
   "file_extension": ".py",
   "mimetype": "text/x-python",
   "name": "python",
   "nbconvert_exporter": "python",
   "pygments_lexer": "ipython2",
   "version": "2.7.6"
  }
 },
 "nbformat": 4,
 "nbformat_minor": 0
}